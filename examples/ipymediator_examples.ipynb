{
 "cells": [
  {
   "cell_type": "markdown",
   "metadata": {},
   "source": [
    "<a target=\"_blank\" href=\"https://colab.research.google.com/github/AndyRids/ipymediator/blob/main/examples/ipymediator_examples.ipynb\">\n",
    "<img src=\"https://colab.research.google.com/assets/colab-badge.svg\" alt=\"Open In Colab\"/>"
   ]
  },
  {
   "cell_type": "code",
   "execution_count": null,
   "metadata": {},
   "outputs": [],
   "source": [
    "!pip install git+https://github.com/AndyRids/ipymediator.git@main"
   ]
  },
  {
   "cell_type": "code",
   "execution_count": null,
   "metadata": {},
   "outputs": [],
   "source": [
    "from ipymediator.enumerations import Value\n",
    "from ipymediator.interface import Mediator, Component\n",
    "from ipymediator.utils import singlenotifydispatch\n",
    "from ipywidgets import widgets as w\n",
    "from traitlets import HasTraits, traitlets"
   ]
  },
  {
   "cell_type": "code",
   "execution_count": null,
   "metadata": {},
   "outputs": [],
   "source": [
    "class Dialog(Mediator, HasTraits):\n",
    "    \"\"\"Receives messages from Button and Text widgets and passes an action\n",
    "    to carry out, to the appropriate widget on message receipt\"\"\"\n",
    "\n",
    "    button_counter = traitlets.Integer(default_value=0, help=\"button clicks\").tag(config=True)\n",
    "\n",
    "    def __init__(self):\n",
    "        super(Dialog, self).__init__()\n",
    "\n",
    "        # Component adds Bool trait called value to all Button widgets by default,\n",
    "        # which toggles True/False on each click (like ToggleButton widget)\n",
    "        self.button_submit = Component(\n",
    "            mediator=self, widget=w.Button(), widget_name=\"button_submit\", names=(\"value\",))\n",
    "\n",
    "        # Component __init__ sets \"value\" trait to be observed by default\n",
    "        self.message_clicks = Component(\n",
    "            mediator=self, widget=w.Text(), widget_name=\"message_clicks\")\n",
    "        \n",
    "        self.message_value = Component(\n",
    "            mediator=self, widget=w.Text(), widget_name=\"message_value\", names=(\"disabled\",))\n",
    "\n",
    "        # Component allows changes to widget property traits through \n",
    "        # bracket notation (see Component info for details)\n",
    "        self.button_submit[\"description\"] = \"Click Me\"\n",
    "        self.button_submit[\"layout\"].width = \"300px\"\n",
    "        self.button_submit[\"style\"].font_weight = \"bold\"\n",
    "        self.button_submit[\"style\"].button_color = \"#f8edeb\"\n",
    "\n",
    "        self.message_clicks[\"style\"].width = \"300px\"\n",
    "        self.message_value[\"style\"].width = \"300px\"\n",
    "\n",
    "        self.container = w.VBox(\n",
    "            children=(\n",
    "                self.button_submit.widget,\n",
    "                self.message_clicks.widget,\n",
    "                self.message_value.widget\n",
    "            )\n",
    "        )\n",
    "\n",
    "    @singlenotifydispatch\n",
    "    def notify(self, reference: str, change: Value) -> None:\n",
    "        \"\"\"Receives nessages from concrete Components\n",
    "        \n",
    "        Params:\n",
    "            reference (str): Reference value passed by Component. Can be used to \n",
    "                differentiate message origin.\n",
    "            \n",
    "            change (Value): trait value change dict passed by traitlets observe function.\n",
    "        \"\"\"\n",
    "        pass\n",
    "           \n",
    "    @notify.register(\"button_submit\")\n",
    "    def _(self, reference: str, change: Value) -> None:\n",
    "        # button_submit.widget was clicked\n",
    "        self.button_counter += 1\n",
    "        self.message_clicks[\"value\"] = f\"Button clicks: {self.button_counter}\"\n",
    "        self.message_value[\"value\"] = f\"Button value is {self.button_submit['value']}\"\n",
    "        self.message_value[\"disabled\"] = self.button_submit[\"value\"]\n",
    "\n",
    "    @notify.register(\"message_value\")\n",
    "    def _(self, reference: str, change: Value) -> None:\n",
    "        # message_value.widget disabled trait change\n",
    "        message = (\"enabled\", \"disabled\")[int(change[\"new\"])]\n",
    "        print(f\"message_value.widget was {message}\")"
   ]
  },
  {
   "cell_type": "code",
   "execution_count": null,
   "metadata": {},
   "outputs": [],
   "source": [
    "dialog = Dialog()\n",
    "dialog.container"
   ]
  }
 ],
 "metadata": {
  "language_info": {
   "name": "python"
  }
 },
 "nbformat": 4,
 "nbformat_minor": 2
}
